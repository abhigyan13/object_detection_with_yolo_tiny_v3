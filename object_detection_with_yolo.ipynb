{
  "nbformat": 4,
  "nbformat_minor": 0,
  "metadata": {
    "colab": {
      "name": "object_detection_with_yolo.ipynb",
      "provenance": [],
      "mount_file_id": "17fED-6VWKCy7VKTENrznRu2La4wlF3_d",
      "authorship_tag": "ABX9TyPla6VdYlmR27EugbFByuYl",
      "include_colab_link": true
    },
    "kernelspec": {
      "name": "python3",
      "display_name": "Python 3"
    },
    "accelerator": "GPU"
  },
  "cells": [
    {
      "cell_type": "markdown",
      "metadata": {
        "id": "view-in-github",
        "colab_type": "text"
      },
      "source": [
        "<a href=\"https://colab.research.google.com/github/abhigyan13/object_detection_with_yolo_tiny_v3/blob/master/object_detection_with_yolo.ipynb\" target=\"_parent\"><img src=\"https://colab.research.google.com/assets/colab-badge.svg\" alt=\"Open In Colab\"/></a>"
      ]
    },
    {
      "cell_type": "code",
      "metadata": {
        "id": "86Khjpxd79Lx",
        "colab_type": "code",
        "colab": {}
      },
      "source": [
        "import numpy as np\n",
        "import argparse\n",
        "import cv2 as cv\n",
        "import subprocess\n",
        "import time\n",
        "import os\n",
        "from google.colab.patches import cv_imshow\n",
        "confidence = 0.5\n",
        "threshold = 0.3"
      ],
      "execution_count": 6,
      "outputs": []
    },
    {
      "cell_type": "code",
      "metadata": {
        "id": "jWfPvyXHitVz",
        "colab_type": "code",
        "colab": {
          "base_uri": "https://localhost:8080/",
          "height": 34
        },
        "outputId": "8e75fc84-6855-4bfd-938f-dfd53389e38b"
      },
      "source": [
        "from google.colab import drive\n",
        "drive.mount('/content/gdrive')"
      ],
      "execution_count": 7,
      "outputs": [
        {
          "output_type": "stream",
          "text": [
            "Mounted at /content/gdrive\n"
          ],
          "name": "stdout"
        }
      ]
    },
    {
      "cell_type": "code",
      "metadata": {
        "id": "hPvnNQyPiS13",
        "colab_type": "code",
        "colab": {}
      },
      "source": [
        "\n",
        "\n",
        "def draw_labels_and_boxes(img, boxes, confidences, classids, idxs, colors, labels):\n",
        "    if len(idxs) > 0:\n",
        "        for i in idxs.flatten():\n",
        "            # Get the bounding box coordinates\n",
        "            x, y = boxes[i][0], boxes[i][1]\n",
        "            w, h = boxes[i][2], boxes[i][3]\n",
        "\n",
        "            # Get the unique color for this class\n",
        "            color = [int(c) for c in colors[classids[i]]]\n",
        "\n",
        "            # Draw the bounding box rectangle and label on the image\n",
        "            cv.rectangle(img, (x, y), (x+w, y+h), color, 2)\n",
        "            text = \"{}: {:4f}\".format(labels[classids[i]], confidences[i])\n",
        "            cv.putText(img, text, (x, y-5), cv.FONT_HERSHEY_SIMPLEX, 0.5, color, 2)\n",
        "\n",
        "    return img\n",
        "\n",
        "\n",
        "def generate_boxes_confidences_classids(outs, height, width, tconf):\n",
        "    boxes = []\n",
        "    confidences = []\n",
        "    classids = []\n",
        "\n",
        "    for out in outs:\n",
        "        for detection in out:\n",
        "            #print (detection)\n",
        "            #a = input('GO!')\n",
        "\n",
        "            # Get the scores, classid, and the confidence of the prediction\n",
        "            scores = detection[5:]\n",
        "            classid = np.argmax(scores)\n",
        "            confidence = scores[classid]\n",
        "\n",
        "            # Consider only the predictions that are above a certain confidence level\n",
        "            if confidence > tconf:\n",
        "                # TODO Check detection\n",
        "                box = detection[0:4] * np.array([width, height, width, height])\n",
        "                centerX, centerY, bwidth, bheight = box.astype('int')\n",
        "\n",
        "                # Using the center x, y coordinates to derive the top\n",
        "                # and the left corner of the bounding box\n",
        "                x = int(centerX - (bwidth / 2))\n",
        "                y = int(centerY - (bheight / 2))\n",
        "\n",
        "                # Append to list\n",
        "                boxes.append([x, y, int(bwidth), int(bheight)])\n",
        "                confidences.append(float(confidence))\n",
        "                classids.append(classid)\n",
        "\n",
        "    return boxes, confidences, classids\n",
        "\n",
        "def infer_image(net, layer_names , height, width, img, colors , labels ,\n",
        "            boxes=None, confidences=None, classids=None, idxs=None, infer=True):\n",
        "\n",
        "    if infer:\n",
        "        # Contructing a blob from the input image\n",
        "        blob = cv.dnn.blobFromImage(img, 1 / 255.0, (416, 416),\n",
        "                        swapRB=True, crop=False)\n",
        "\n",
        "        # Perform a forward pass of the YOLO object detector\n",
        "        net.setInput(blob)\n",
        "\n",
        "        # Getting the outputs from the output layers\n",
        "        outs = net.forward(layer_names)\n",
        "\n",
        "\n",
        "\n",
        "        # Generate the boxes, confidences, and classIDs\n",
        "        boxes, confidences, classids = generate_boxes_confidences_classids(outs, height, width, confidence)\n",
        "\n",
        "        # Apply Non-Maxima Suppression to suppress overlapping bounding boxes\n",
        "        idxs = cv.dnn.NMSBoxes(boxes, confidences, confidence, threshold)\n",
        "\n",
        "    if boxes is None or confidences is None or idxs is None or classids is None:\n",
        "        raise '[ERROR] Required variables are set to None before drawing boxes on images.'\n",
        "\n",
        "    # Draw labels and boxes on the image\n",
        "    img = draw_labels_and_boxes(img, boxes, confidences, classids, idxs, colors, labels)\n",
        "\n",
        "    return img, boxes, confidences, classids, idxs"
      ],
      "execution_count": 8,
      "outputs": []
    },
    {
      "cell_type": "code",
      "metadata": {
        "id": "RkK0xpYTW7Ab",
        "colab_type": "code",
        "colab": {}
      },
      "source": [
        ""
      ],
      "execution_count": null,
      "outputs": []
    },
    {
      "cell_type": "code",
      "metadata": {
        "id": "v-H9_ynCYvkh",
        "colab_type": "code",
        "colab": {}
      },
      "source": [
        "weights = \"gdrive/My Drive/yolov3-tiny.weights\"\n",
        "config = \"gdrive/My Drive/yolov3-tiny.cfg\"\n",
        "#name the output file\n",
        "output = \"gdrive/My Drive/outputs.mp4\"\n",
        "#Add your video here\n",
        "video_path = \"gdrive/My Drive/myvid.mp4\"\n",
        "\n",
        "label = \"gdrive/My Drive/coco-labels\"\n",
        "\n",
        "labels = open(label).read().strip().split('\\n')\n",
        "\n",
        "colors = np.random.randint(0, 255, size=(len(labels), 3), dtype='uint8')\n",
        "\n",
        "net = cv.dnn.readNetFromDarknet( config, weights)\n",
        "\n",
        "layer_names = net.getLayerNames()\n",
        "layer_names = [layer_names[i[0] - 1] for i in net.getUnconnectedOutLayers()]\n",
        "\n",
        "\n"
      ],
      "execution_count": 9,
      "outputs": []
    },
    {
      "cell_type": "code",
      "metadata": {
        "id": "HLEjto7OgNLt",
        "colab_type": "code",
        "colab": {}
      },
      "source": [
        "vid = cv.VideoCapture(str(video_path))\n",
        "height, width, writer= None, None, None\n",
        "while True:\n",
        "\n",
        "  grabbed, frame = vid.read()\n",
        "  \n",
        "  if not grabbed:\n",
        "\t  break\n",
        "\n",
        "  if width is None or height is None:\n",
        "    height, width = frame.shape[:2]\n",
        "\n",
        "  frame, _, _, _, _ = infer_image(net, layer_names, height, width, frame, colors, labels)\n",
        "\n",
        "  if writer is None:\n",
        "\t  fourcc = cv.VideoWriter_fourcc(*'mp4v')\n",
        "\t  writer = cv.VideoWriter(output, fourcc, 30,(frame.shape[1], frame.shape[0]), True)\n",
        "  \n",
        "\n",
        "  writer.write(frame)\n",
        "  \n",
        "\n",
        "writer.release()\n",
        "vid.release()"
      ],
      "execution_count": null,
      "outputs": []
    },
    {
      "cell_type": "code",
      "metadata": {
        "id": "2ngp3vyU8eAb",
        "colab_type": "code",
        "colab": {}
      },
      "source": [
        ""
      ],
      "execution_count": null,
      "outputs": []
    }
  ]
}